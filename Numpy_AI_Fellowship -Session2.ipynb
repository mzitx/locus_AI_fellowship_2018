{
 "cells": [
  {
   "cell_type": "markdown",
   "metadata": {},
   "source": [
    "## NUMPY (AI FELLOWSHIP -DAY 2- pulchowk.ai)\n",
    "### Course Structure\n",
    "\n",
    "### Numpy  =  ndarray + ufunc (universal functions) \n",
    "### 1. Creating 1D and 2D array\n",
    "### 2. Random Number Generation\n",
    "### 3. Shaping \n",
    "### 4. Indexing and Slicing\n",
    "### 5. Linear Algebra Overview"
   ]
  },
  {
   "cell_type": "code",
   "execution_count": null,
   "metadata": {
    "colab": {},
    "colab_type": "code",
    "id": "pzIyTlwCyFVI"
   },
   "outputs": [],
   "source": [
    "# Import NUMPY\n",
    "import numpy as np"
   ]
  },
  {
   "cell_type": "markdown",
   "metadata": {
    "colab_type": "text",
    "id": "6Xs_HDIwyFVY"
   },
   "source": [
    "# 1. creating 1 D and 2D array"
   ]
  },
  {
   "cell_type": "code",
   "execution_count": null,
   "metadata": {
    "colab": {},
    "colab_type": "code",
    "id": "mK1Rtb8yyFVa"
   },
   "outputs": [],
   "source": [
    "list = [2,3,9]"
   ]
  },
  {
   "cell_type": "code",
   "execution_count": null,
   "metadata": {
    "colab": {
     "base_uri": "https://localhost:8080/",
     "height": 34
    },
    "colab_type": "code",
    "executionInfo": {
     "elapsed": 915,
     "status": "ok",
     "timestamp": 1537053295608,
     "user": {
      "displayName": "Nishan Pantha",
      "photoUrl": "//lh6.googleusercontent.com/-vaIH4ned-4g/AAAAAAAAAAI/AAAAAAAASvw/Rb0EhNdInaw/s50-c-k-no/photo.jpg",
      "userId": "110031988345300980177"
     },
     "user_tz": -345
    },
    "id": "1MLuFIhJyFVi",
    "outputId": "ea274ebb-da3e-480f-f608-24ff48a6c0d6"
   },
   "outputs": [],
   "source": [
    "list"
   ]
  },
  {
   "cell_type": "code",
   "execution_count": null,
   "metadata": {
    "colab": {},
    "colab_type": "code",
    "id": "wourQmBDyFVu"
   },
   "outputs": [],
   "source": [
    "arr = np.array(list) #1D array"
   ]
  },
  {
   "cell_type": "code",
   "execution_count": null,
   "metadata": {
    "colab": {
     "base_uri": "https://localhost:8080/",
     "height": 34
    },
    "colab_type": "code",
    "executionInfo": {
     "elapsed": 1140,
     "status": "ok",
     "timestamp": 1537053299559,
     "user": {
      "displayName": "Nishan Pantha",
      "photoUrl": "//lh6.googleusercontent.com/-vaIH4ned-4g/AAAAAAAAAAI/AAAAAAAASvw/Rb0EhNdInaw/s50-c-k-no/photo.jpg",
      "userId": "110031988345300980177"
     },
     "user_tz": -345
    },
    "id": "ssNuxRhgyFV0",
    "outputId": "a4f23ac0-3fa0-4d59-d84c-2754121720f6"
   },
   "outputs": [],
   "source": [
    "#numpy is made up of ndarrays\n",
    "print(arr,type(arr))"
   ]
  },
  {
   "cell_type": "code",
   "execution_count": null,
   "metadata": {
    "colab": {
     "base_uri": "https://localhost:8080/",
     "height": 69
    },
    "colab_type": "code",
    "executionInfo": {
     "elapsed": 911,
     "status": "ok",
     "timestamp": 1537053301691,
     "user": {
      "displayName": "Nishan Pantha",
      "photoUrl": "//lh6.googleusercontent.com/-vaIH4ned-4g/AAAAAAAAAAI/AAAAAAAASvw/Rb0EhNdInaw/s50-c-k-no/photo.jpg",
      "userId": "110031988345300980177"
     },
     "user_tz": -345
    },
    "id": "jmBwCltSyFV8",
    "outputId": "afebd199-1b8a-4194-d5ca-f36693947bb6"
   },
   "outputs": [],
   "source": [
    "#two dimensional array\n",
    "matrix = [[1,2,3], [4,5,6], [7,8,9]]\n",
    "my_arr = np.array(matrix) \n",
    "print(my_arr)"
   ]
  },
  {
   "cell_type": "code",
   "execution_count": 45,
   "metadata": {
    "colab": {
     "base_uri": "https://localhost:8080/",
     "height": 34
    },
    "colab_type": "code",
    "executionInfo": {
     "elapsed": 919,
     "status": "ok",
     "timestamp": 1537053304208,
     "user": {
      "displayName": "Nishan Pantha",
      "photoUrl": "//lh6.googleusercontent.com/-vaIH4ned-4g/AAAAAAAAAAI/AAAAAAAASvw/Rb0EhNdInaw/s50-c-k-no/photo.jpg",
      "userId": "110031988345300980177"
     },
     "user_tz": -345
    },
    "id": "fGArb9jByFWG",
    "outputId": "8a0256a3-bed0-42d0-e8d8-fc37b6f44649"
   },
   "outputs": [
    {
     "data": {
      "text/plain": [
       "array([0, 2, 4, 6, 8])"
      ]
     },
     "execution_count": 45,
     "metadata": {},
     "output_type": "execute_result"
    }
   ],
   "source": [
    "#using built in functions to create numpy array\n",
    "# Start, Stop, Step\n",
    "# arange creates array from start to stop-1 with step size\n",
    "np.arange(0,10, 2)"
   ]
  },
  {
   "cell_type": "code",
   "execution_count": 44,
   "metadata": {},
   "outputs": [
    {
     "data": {
      "text/plain": [
       "array([[1., 0., 0., 0., 0.],\n",
       "       [0., 1., 0., 0., 0.],\n",
       "       [0., 0., 1., 0., 0.],\n",
       "       [0., 0., 0., 1., 0.],\n",
       "       [0., 0., 0., 0., 1.]])"
      ]
     },
     "execution_count": 44,
     "metadata": {},
     "output_type": "execute_result"
    }
   ],
   "source": [
    "# n x n identity matrix \n",
    "np.eye(5)"
   ]
  },
  {
   "cell_type": "code",
   "execution_count": 46,
   "metadata": {},
   "outputs": [
    {
     "data": {
      "text/plain": [
       "array([0.        , 0.55555556, 1.11111111, 1.66666667, 2.22222222,\n",
       "       2.77777778, 3.33333333, 3.88888889, 4.44444444, 5.        ])"
      ]
     },
     "execution_count": 46,
     "metadata": {},
     "output_type": "execute_result"
    }
   ],
   "source": [
    "np.linspace(0,5,10)\n",
    "# linspace returns evenly spaced 10 points from 0 to 5"
   ]
  },
  {
   "cell_type": "code",
   "execution_count": 43,
   "metadata": {},
   "outputs": [
    {
     "name": "stdout",
     "output_type": "stream",
     "text": [
      "[0. 0. 0.]\n",
      "[0 0 0]\n"
     ]
    }
   ],
   "source": [
    "float_zeros = np.zeros(3)\n",
    "int_zeros = np.zeros(3,dtype = int)\n",
    "print(float_zeros)\n",
    "print(int_zeros)"
   ]
  },
  {
   "cell_type": "code",
   "execution_count": null,
   "metadata": {},
   "outputs": [],
   "source": [
    "zero_mat=np.zeros((2,3))\n",
    "zero_mat"
   ]
  },
  {
   "cell_type": "markdown",
   "metadata": {
    "colab_type": "text",
    "id": "h7vV9zITyFWQ"
   },
   "source": [
    "# 2. Random number generation"
   ]
  },
  {
   "cell_type": "code",
   "execution_count": 47,
   "metadata": {
    "colab": {
     "base_uri": "https://localhost:8080/",
     "height": 104
    },
    "colab_type": "code",
    "executionInfo": {
     "elapsed": 890,
     "status": "ok",
     "timestamp": 1537053346260,
     "user": {
      "displayName": "Nishan Pantha",
      "photoUrl": "//lh6.googleusercontent.com/-vaIH4ned-4g/AAAAAAAAAAI/AAAAAAAASvw/Rb0EhNdInaw/s50-c-k-no/photo.jpg",
      "userId": "110031988345300980177"
     },
     "user_tz": -345
    },
    "id": "UQ1AfSDtyFWY",
    "outputId": "6dfa6c10-6a03-4d6c-aeef-d519460b73b4"
   },
   "outputs": [
    {
     "data": {
      "text/plain": [
       "array([0.31949295, 0.68551099, 0.5266383 , 0.28985233, 0.67664581])"
      ]
     },
     "execution_count": 47,
     "metadata": {},
     "output_type": "execute_result"
    }
   ],
   "source": [
    "# rand generates random numbers between 0 and 1\n",
    "np.random.rand(5) "
   ]
  },
  {
   "cell_type": "code",
   "execution_count": 49,
   "metadata": {},
   "outputs": [
    {
     "data": {
      "text/plain": [
       "array([17.56088706, 17.79650167])"
      ]
     },
     "execution_count": 49,
     "metadata": {},
     "output_type": "execute_result"
    }
   ],
   "source": [
    "# Assignment\n",
    "# a function that generates n random numbers between p and q\n",
    "def myrand(n,p,q):\n",
    "    return p+np.random.rand(n)*(q-p)\n",
    "\n",
    "\n",
    "myrand(2,10,20)"
   ]
  },
  {
   "cell_type": "code",
   "execution_count": null,
   "metadata": {},
   "outputs": [],
   "source": [
    "# random matrix of size 5 x 5\n",
    "np.random.rand(5,5)"
   ]
  },
  {
   "cell_type": "code",
   "execution_count": null,
   "metadata": {
    "colab": {
     "base_uri": "https://localhost:8080/",
     "height": 52
    },
    "colab_type": "code",
    "executionInfo": {
     "elapsed": 901,
     "status": "ok",
     "timestamp": 1537053348811,
     "user": {
      "displayName": "Nishan Pantha",
      "photoUrl": "//lh6.googleusercontent.com/-vaIH4ned-4g/AAAAAAAAAAI/AAAAAAAASvw/Rb0EhNdInaw/s50-c-k-no/photo.jpg",
      "userId": "110031988345300980177"
     },
     "user_tz": -345
    },
    "id": "zxENQz6AyFWu",
    "outputId": "f04dd2c6-b19a-459e-b886-fcb5394b10c9"
   },
   "outputs": [],
   "source": [
    "#randn generates random numbers from normal distribution\n",
    "np.random.randn(2) "
   ]
  },
  {
   "cell_type": "code",
   "execution_count": null,
   "metadata": {
    "colab": {
     "base_uri": "https://localhost:8080/",
     "height": 34
    },
    "colab_type": "code",
    "executionInfo": {
     "elapsed": 897,
     "status": "ok",
     "timestamp": 1537053360958,
     "user": {
      "displayName": "Nishan Pantha",
      "photoUrl": "//lh6.googleusercontent.com/-vaIH4ned-4g/AAAAAAAAAAI/AAAAAAAASvw/Rb0EhNdInaw/s50-c-k-no/photo.jpg",
      "userId": "110031988345300980177"
     },
     "user_tz": -345
    },
    "id": "eIZYWcUMyFW-",
    "outputId": "dce768e6-5d61-403d-832e-d2792a629916"
   },
   "outputs": [],
   "source": [
    "#randint generates random number in between 1 and 50\n",
    "np.random.randint(1,50)"
   ]
  },
  {
   "cell_type": "code",
   "execution_count": null,
   "metadata": {
    "colab": {
     "base_uri": "https://localhost:8080/",
     "height": 34
    },
    "colab_type": "code",
    "executionInfo": {
     "elapsed": 1086,
     "status": "ok",
     "timestamp": 1537053368116,
     "user": {
      "displayName": "Nishan Pantha",
      "photoUrl": "//lh6.googleusercontent.com/-vaIH4ned-4g/AAAAAAAAAAI/AAAAAAAASvw/Rb0EhNdInaw/s50-c-k-no/photo.jpg",
      "userId": "110031988345300980177"
     },
     "user_tz": -345
    },
    "id": "oYkXzLN3yFXK",
    "outputId": "a193fc90-105c-4a74-89b9-d5590b2acbe0"
   },
   "outputs": [],
   "source": [
    "#generates  5 random numbers from 1 to 200\n",
    "np.random.randint(1,200,5)"
   ]
  },
  {
   "cell_type": "markdown",
   "metadata": {
    "colab_type": "text",
    "id": "CYEud_8qyFXW"
   },
   "source": [
    "# seed() gives same random number \n",
    "\n",
    "## The method seed() sets the integer starting value used in generating random numbers.\n",
    "## Call this function before calling any other random module function.\n"
   ]
  },
  {
   "cell_type": "markdown",
   "metadata": {},
   "source": [
    " (pseudo-)random numbers work by starting with a number (the seed), \n",
    " multiplying it by a large number, then taking modulo of that product. \n",
    " The resulting number is then used as the seed to generate the next \"random\" number.\n",
    " When you set the seed (every time),  it does the same thing every time, giving you the same numbers."
   ]
  },
  {
   "cell_type": "code",
   "execution_count": null,
   "metadata": {
    "colab": {
     "base_uri": "https://localhost:8080/",
     "height": 34
    },
    "colab_type": "code",
    "executionInfo": {
     "elapsed": 1095,
     "status": "ok",
     "timestamp": 1537053379456,
     "user": {
      "displayName": "Nishan Pantha",
      "photoUrl": "//lh6.googleusercontent.com/-vaIH4ned-4g/AAAAAAAAAAI/AAAAAAAASvw/Rb0EhNdInaw/s50-c-k-no/photo.jpg",
      "userId": "110031988345300980177"
     },
     "user_tz": -345
    },
    "id": "5iWO80V3yFXa",
    "outputId": "f9313ec1-367c-49f7-c608-92fc9165b611"
   },
   "outputs": [],
   "source": [
    "np.random.seed(10)\n",
    "np.random.rand(2)\n"
   ]
  },
  {
   "cell_type": "code",
   "execution_count": null,
   "metadata": {
    "colab": {
     "base_uri": "https://localhost:8080/",
     "height": 34
    },
    "colab_type": "code",
    "executionInfo": {
     "elapsed": 1097,
     "status": "ok",
     "timestamp": 1537053383165,
     "user": {
      "displayName": "Nishan Pantha",
      "photoUrl": "//lh6.googleusercontent.com/-vaIH4ned-4g/AAAAAAAAAAI/AAAAAAAASvw/Rb0EhNdInaw/s50-c-k-no/photo.jpg",
      "userId": "110031988345300980177"
     },
     "user_tz": -345
    },
    "id": "n1a5zWY3yFXg",
    "outputId": "cdb0953c-3466-4cda-8e0a-7da64b4eadd5"
   },
   "outputs": [],
   "source": [
    "np.random.seed(10)\n",
    "np.random.random((1,5))"
   ]
  },
  {
   "cell_type": "markdown",
   "metadata": {
    "colab_type": "text",
    "id": "qLvG0QrryFXo"
   },
   "source": [
    "# 3. Shaping "
   ]
  },
  {
   "cell_type": "code",
   "execution_count": 50,
   "metadata": {
    "colab": {},
    "colab_type": "code",
    "id": "hvsciI9lyFXq"
   },
   "outputs": [
    {
     "data": {
      "text/plain": [
       "array([ 0,  1,  2,  3,  4,  5,  6,  7,  8,  9, 10, 11, 12, 13, 14])"
      ]
     },
     "execution_count": 50,
     "metadata": {},
     "output_type": "execute_result"
    }
   ],
   "source": [
    "# Generate an array of size 15\n",
    "arr = np.arange(15)\n",
    "arr"
   ]
  },
  {
   "cell_type": "code",
   "execution_count": 51,
   "metadata": {
    "colab": {
     "base_uri": "https://localhost:8080/",
     "height": 34
    },
    "colab_type": "code",
    "executionInfo": {
     "elapsed": 959,
     "status": "ok",
     "timestamp": 1537053398876,
     "user": {
      "displayName": "Nishan Pantha",
      "photoUrl": "//lh6.googleusercontent.com/-vaIH4ned-4g/AAAAAAAAAAI/AAAAAAAASvw/Rb0EhNdInaw/s50-c-k-no/photo.jpg",
      "userId": "110031988345300980177"
     },
     "user_tz": -345
    },
    "id": "5t8HJ7rByFYM",
    "outputId": "12259180-be03-4e53-d680-2a843c789bd5"
   },
   "outputs": [
    {
     "data": {
      "text/plain": [
       "(15,)"
      ]
     },
     "execution_count": 51,
     "metadata": {},
     "output_type": "execute_result"
    }
   ],
   "source": [
    "# array shape\n",
    "arr.shape"
   ]
  },
  {
   "cell_type": "markdown",
   "metadata": {},
   "source": [
    "For a 1D array, the shape would be (n,) where n is the number of elements in your array.\n",
    "\n",
    "For a 2D array, the shape would be (n,m) where n is the number of rows and m is the number of columns in your array."
   ]
  },
  {
   "cell_type": "code",
   "execution_count": 52,
   "metadata": {
    "colab": {
     "base_uri": "https://localhost:8080/",
     "height": 104
    },
    "colab_type": "code",
    "executionInfo": {
     "elapsed": 643,
     "status": "ok",
     "timestamp": 1537053400170,
     "user": {
      "displayName": "Nishan Pantha",
      "photoUrl": "//lh6.googleusercontent.com/-vaIH4ned-4g/AAAAAAAAAAI/AAAAAAAASvw/Rb0EhNdInaw/s50-c-k-no/photo.jpg",
      "userId": "110031988345300980177"
     },
     "user_tz": -345
    },
    "id": "UQ7O2Em-yFYY",
    "outputId": "09cb125f-6c1c-4bd6-d2f5-0454c4e04f97"
   },
   "outputs": [
    {
     "data": {
      "text/plain": [
       "array([[ 0,  1,  2],\n",
       "       [ 3,  4,  5],\n",
       "       [ 6,  7,  8],\n",
       "       [ 9, 10, 11],\n",
       "       [12, 13, 14]])"
      ]
     },
     "execution_count": 52,
     "metadata": {},
     "output_type": "execute_result"
    }
   ],
   "source": [
    "#reshaping the array\n",
    "arr.reshape(5,3)\n",
    "## Remember the number of array elements must be same in matrix too.\n"
   ]
  },
  {
   "cell_type": "code",
   "execution_count": null,
   "metadata": {},
   "outputs": [],
   "source": [
    "# What will be the result\n",
    "arr.reshape(5,5)"
   ]
  },
  {
   "cell_type": "code",
   "execution_count": null,
   "metadata": {},
   "outputs": [],
   "source": [
    "# what will be result\n",
    "arr"
   ]
  },
  {
   "cell_type": "code",
   "execution_count": 53,
   "metadata": {},
   "outputs": [
    {
     "data": {
      "text/plain": [
       "array([[ 0,  2,  4,  6],\n",
       "       [ 8, 10, 12, 14],\n",
       "       [16, 18, 20, 22]])"
      ]
     },
     "execution_count": 53,
     "metadata": {},
     "output_type": "execute_result"
    }
   ],
   "source": [
    "# Multidimensional Arrays\n",
    "np.arange(0,24,2).reshape(3,4)"
   ]
  },
  {
   "cell_type": "code",
   "execution_count": null,
   "metadata": {},
   "outputs": [],
   "source": [
    "arr.max() ## maximum value of array"
   ]
  },
  {
   "cell_type": "code",
   "execution_count": null,
   "metadata": {},
   "outputs": [],
   "source": [
    "arr.min() ## minimum value of array"
   ]
  },
  {
   "cell_type": "code",
   "execution_count": 54,
   "metadata": {},
   "outputs": [
    {
     "name": "stdout",
     "output_type": "stream",
     "text": [
      "Mean : 7.0  Standard Deviation :  4.320493798938574\n"
     ]
    }
   ],
   "source": [
    "print('Mean :', arr.mean() , ' Standard Deviation : ',  arr.std())"
   ]
  },
  {
   "cell_type": "code",
   "execution_count": 55,
   "metadata": {
    "colab": {},
    "colab_type": "code",
    "id": "Qdad5lRiyFYg"
   },
   "outputs": [],
   "source": [
    "mat=np.array(([1,2],[3,4],[5,6]))"
   ]
  },
  {
   "cell_type": "code",
   "execution_count": 56,
   "metadata": {},
   "outputs": [
    {
     "data": {
      "text/plain": [
       "array([[1, 2],\n",
       "       [3, 4],\n",
       "       [5, 6]])"
      ]
     },
     "execution_count": 56,
     "metadata": {},
     "output_type": "execute_result"
    }
   ],
   "source": [
    "mat"
   ]
  },
  {
   "cell_type": "code",
   "execution_count": 57,
   "metadata": {
    "colab": {
     "base_uri": "https://localhost:8080/",
     "height": 34
    },
    "colab_type": "code",
    "executionInfo": {
     "elapsed": 1054,
     "status": "ok",
     "timestamp": 1537053427530,
     "user": {
      "displayName": "Nishan Pantha",
      "photoUrl": "//lh6.googleusercontent.com/-vaIH4ned-4g/AAAAAAAAAAI/AAAAAAAASvw/Rb0EhNdInaw/s50-c-k-no/photo.jpg",
      "userId": "110031988345300980177"
     },
     "user_tz": -345
    },
    "id": "mOHdm_TvyFY2",
    "outputId": "8f2b7199-9e3d-410e-8fe3-4a2eace8bb35"
   },
   "outputs": [
    {
     "data": {
      "text/plain": [
       "(3, 2)"
      ]
     },
     "execution_count": 57,
     "metadata": {},
     "output_type": "execute_result"
    }
   ],
   "source": [
    "#finding shape of array \n",
    "mat.shape\n",
    "## matrix of size 3 x 2 i.e. 3 rows and 2 columns"
   ]
  },
  {
   "cell_type": "code",
   "execution_count": 58,
   "metadata": {
    "colab": {
     "base_uri": "https://localhost:8080/",
     "height": 52
    },
    "colab_type": "code",
    "executionInfo": {
     "elapsed": 933,
     "status": "ok",
     "timestamp": 1537053429940,
     "user": {
      "displayName": "Nishan Pantha",
      "photoUrl": "//lh6.googleusercontent.com/-vaIH4ned-4g/AAAAAAAAAAI/AAAAAAAASvw/Rb0EhNdInaw/s50-c-k-no/photo.jpg",
      "userId": "110031988345300980177"
     },
     "user_tz": -345
    },
    "id": "PaOTRKXoyFY6",
    "outputId": "627a6671-abf2-40fa-b335-e716e5faf1fc"
   },
   "outputs": [
    {
     "data": {
      "text/plain": [
       "array([[1, 2, 3],\n",
       "       [4, 5, 6]])"
      ]
     },
     "execution_count": 58,
     "metadata": {},
     "output_type": "execute_result"
    }
   ],
   "source": [
    "mat=mat.reshape(2,3)\n",
    "mat"
   ]
  },
  {
   "cell_type": "code",
   "execution_count": 59,
   "metadata": {
    "colab": {
     "base_uri": "https://localhost:8080/",
     "height": 34
    },
    "colab_type": "code",
    "executionInfo": {
     "elapsed": 927,
     "status": "ok",
     "timestamp": 1537053431918,
     "user": {
      "displayName": "Nishan Pantha",
      "photoUrl": "//lh6.googleusercontent.com/-vaIH4ned-4g/AAAAAAAAAAI/AAAAAAAASvw/Rb0EhNdInaw/s50-c-k-no/photo.jpg",
      "userId": "110031988345300980177"
     },
     "user_tz": -345
    },
    "id": "xGCyjZ6gyFZA",
    "outputId": "d14cd341-34b1-4cc9-f355-a73b82c2168b"
   },
   "outputs": [
    {
     "data": {
      "text/plain": [
       "(2, 3)"
      ]
     },
     "execution_count": 59,
     "metadata": {},
     "output_type": "execute_result"
    }
   ],
   "source": [
    "## shape of mat \n",
    "mat.shape"
   ]
  },
  {
   "cell_type": "code",
   "execution_count": 60,
   "metadata": {
    "colab": {
     "base_uri": "https://localhost:8080/",
     "height": 34
    },
    "colab_type": "code",
    "executionInfo": {
     "elapsed": 860,
     "status": "ok",
     "timestamp": 1537053439569,
     "user": {
      "displayName": "Nishan Pantha",
      "photoUrl": "//lh6.googleusercontent.com/-vaIH4ned-4g/AAAAAAAAAAI/AAAAAAAASvw/Rb0EhNdInaw/s50-c-k-no/photo.jpg",
      "userId": "110031988345300980177"
     },
     "user_tz": -345
    },
    "id": "XLUFeLhHyFZK",
    "outputId": "971e2d74-7733-4bda-f8e1-e473cf8346c2"
   },
   "outputs": [
    {
     "data": {
      "text/plain": [
       "dtype('int64')"
      ]
     },
     "execution_count": 60,
     "metadata": {},
     "output_type": "execute_result"
    }
   ],
   "source": [
    "#datatype in array\n",
    "arr.dtype"
   ]
  },
  {
   "cell_type": "markdown",
   "metadata": {
    "colab_type": "text",
    "id": "gIWh6naHyFZO"
   },
   "source": [
    "# 4. Indexing and Slicing\n"
   ]
  },
  {
   "cell_type": "code",
   "execution_count": 61,
   "metadata": {
    "colab": {},
    "colab_type": "code",
    "id": "qI98PVQ-yFZQ"
   },
   "outputs": [],
   "source": [
    "arr = np.arange(0,10)"
   ]
  },
  {
   "cell_type": "code",
   "execution_count": 62,
   "metadata": {
    "colab": {},
    "colab_type": "code",
    "id": "5ngRQQhsyFZa",
    "outputId": "e9cf0dfb-6bbc-4171-cf09-33aa881c04bf"
   },
   "outputs": [
    {
     "data": {
      "text/plain": [
       "1"
      ]
     },
     "execution_count": 62,
     "metadata": {},
     "output_type": "execute_result"
    }
   ],
   "source": [
    "# array indexing\n",
    "arr[1]"
   ]
  },
  {
   "cell_type": "code",
   "execution_count": 63,
   "metadata": {
    "colab": {},
    "colab_type": "code",
    "id": "lTmEPXg2yFZg",
    "outputId": "62764da8-73ea-459f-ec25-6b77b44012bc"
   },
   "outputs": [
    {
     "data": {
      "text/plain": [
       "array([1, 2, 3, 4])"
      ]
     },
     "execution_count": 63,
     "metadata": {},
     "output_type": "execute_result"
    }
   ],
   "source": [
    "arr[1:5] #slicing"
   ]
  },
  {
   "cell_type": "code",
   "execution_count": 64,
   "metadata": {
    "colab": {},
    "colab_type": "code",
    "id": "xCyoGTA-yFZm",
    "outputId": "e9eeb717-56c6-420b-9c6c-9d71971071d4"
   },
   "outputs": [
    {
     "data": {
      "text/plain": [
       "array([0, 1, 2, 3, 4])"
      ]
     },
     "execution_count": 64,
     "metadata": {},
     "output_type": "execute_result"
    }
   ],
   "source": [
    "arr[:5]"
   ]
  },
  {
   "cell_type": "code",
   "execution_count": 65,
   "metadata": {
    "colab": {},
    "colab_type": "code",
    "id": "GQC_eEpTyFZq",
    "outputId": "af07b0c2-b91e-4ef9-ec93-50f87eb34659"
   },
   "outputs": [
    {
     "data": {
      "text/plain": [
       "array([0, 1, 2, 3, 4, 5, 6, 7, 8, 9])"
      ]
     },
     "execution_count": 65,
     "metadata": {},
     "output_type": "execute_result"
    }
   ],
   "source": [
    "arr[0:]"
   ]
  },
  {
   "cell_type": "code",
   "execution_count": 66,
   "metadata": {
    "colab": {},
    "colab_type": "code",
    "id": "NuXipq7MyFZ2",
    "outputId": "c3fabf85-1250-4a3b-e77a-a15c2516af64"
   },
   "outputs": [
    {
     "data": {
      "text/plain": [
       "array([0, 1, 2, 3, 4, 5, 6, 7, 8, 9])"
      ]
     },
     "execution_count": 66,
     "metadata": {},
     "output_type": "execute_result"
    }
   ],
   "source": [
    "arr[:10]"
   ]
  },
  {
   "cell_type": "code",
   "execution_count": 67,
   "metadata": {
    "colab": {},
    "colab_type": "code",
    "id": "Pi4YHg71yFaG"
   },
   "outputs": [
    {
     "data": {
      "text/plain": [
       "array([100,   1,   2,   3,   4,   5,   6,   7,   8,   9])"
      ]
     },
     "execution_count": 67,
     "metadata": {},
     "output_type": "execute_result"
    }
   ],
   "source": [
    "## inserting value\n",
    "arr[0] = 100 \n",
    "arr"
   ]
  },
  {
   "cell_type": "code",
   "execution_count": 68,
   "metadata": {
    "colab": {},
    "colab_type": "code",
    "id": "YNYNYp4UyFaS",
    "outputId": "cf68566c-4456-43f1-a918-b75b35b840e6"
   },
   "outputs": [
    {
     "data": {
      "text/plain": [
       "array([ 0,  1,  2,  3,  4,  5,  6,  7,  8,  9, 10])"
      ]
     },
     "execution_count": 68,
     "metadata": {},
     "output_type": "execute_result"
    }
   ],
   "source": [
    "arr = np.arange(0,11)\n",
    "arr"
   ]
  },
  {
   "cell_type": "markdown",
   "metadata": {},
   "source": [
    "## Copying "
   ]
  },
  {
   "cell_type": "code",
   "execution_count": 69,
   "metadata": {
    "colab": {},
    "colab_type": "code",
    "id": "gzIylc-YyFaa",
    "outputId": "d1f53032-1563-4e97-a9ac-5b82e5d23f5a"
   },
   "outputs": [
    {
     "data": {
      "text/plain": [
       "array([0, 1, 2, 3, 4, 5])"
      ]
     },
     "execution_count": 69,
     "metadata": {},
     "output_type": "execute_result"
    }
   ],
   "source": [
    "new_arr = arr[0:6]\n",
    "new_arr"
   ]
  },
  {
   "cell_type": "code",
   "execution_count": 70,
   "metadata": {
    "colab": {},
    "colab_type": "code",
    "id": "vD6S3FrUyFae"
   },
   "outputs": [],
   "source": [
    "new_arr[:] = 99"
   ]
  },
  {
   "cell_type": "code",
   "execution_count": 71,
   "metadata": {
    "colab": {},
    "colab_type": "code",
    "id": "U12BfPj_yFag",
    "outputId": "60364e52-9125-4631-8be5-afd22f4a3e4f"
   },
   "outputs": [
    {
     "data": {
      "text/plain": [
       "array([99, 99, 99, 99, 99, 99])"
      ]
     },
     "execution_count": 71,
     "metadata": {},
     "output_type": "execute_result"
    }
   ],
   "source": [
    "new_arr"
   ]
  },
  {
   "cell_type": "code",
   "execution_count": 72,
   "metadata": {
    "colab": {},
    "colab_type": "code",
    "id": "nXOMdg_UyFak",
    "outputId": "8f3fb54b-c5a0-41d6-d65f-0a729dc9ebfa"
   },
   "outputs": [
    {
     "data": {
      "text/plain": [
       "array([99, 99, 99, 99, 99, 99,  6,  7,  8,  9, 10])"
      ]
     },
     "execution_count": 72,
     "metadata": {},
     "output_type": "execute_result"
    }
   ],
   "source": [
    "#Only address is sent not values\n",
    "arr "
   ]
  },
  {
   "cell_type": "code",
   "execution_count": 73,
   "metadata": {
    "colab": {},
    "colab_type": "code",
    "id": "Y21RKhqYyFao",
    "outputId": "a6181738-8e4d-48b2-b97c-a1df4e3054b0"
   },
   "outputs": [
    {
     "data": {
      "text/plain": [
       "array([99, 99, 99, 99, 99, 99,  6,  7,  8,  9, 10])"
      ]
     },
     "execution_count": 73,
     "metadata": {},
     "output_type": "execute_result"
    }
   ],
   "source": [
    "# There is copy function to copy array\n",
    "arr_copy = arr.copy()\n",
    "arr_copy"
   ]
  },
  {
   "cell_type": "code",
   "execution_count": null,
   "metadata": {
    "colab": {},
    "colab_type": "code",
    "id": "Od5hwfciyFa2",
    "outputId": "8a95736a-2321-442b-d729-9f3f750c74a6"
   },
   "outputs": [],
   "source": [
    "arr_copy[6:] =100\n",
    "arr_copy"
   ]
  },
  {
   "cell_type": "code",
   "execution_count": null,
   "metadata": {
    "colab": {},
    "colab_type": "code",
    "id": "C7zoCYu3yFa6",
    "outputId": "fe8dc802-8776-4140-b71c-a84f5a96dd4e"
   },
   "outputs": [],
   "source": [
    "#now we can see the values have been copied not address\n",
    "arr"
   ]
  },
  {
   "cell_type": "markdown",
   "metadata": {
    "colab_type": "text",
    "id": "6aSpYepryFbE"
   },
   "source": [
    "## Indexing matrix"
   ]
  },
  {
   "cell_type": "code",
   "execution_count": null,
   "metadata": {
    "colab": {},
    "colab_type": "code",
    "id": "FvVqhmmlyFa-",
    "outputId": "43e22c25-358c-423f-90d8-f25aea05908c"
   },
   "outputs": [],
   "source": [
    "#2D array\n",
    "\n",
    "arr_mat = np.array([[1,2,3], [0,5,9], [3,5,4]])\n",
    "arr_mat"
   ]
  },
  {
   "cell_type": "code",
   "execution_count": null,
   "metadata": {
    "colab": {},
    "colab_type": "code",
    "id": "42_3o0OoyFbG",
    "outputId": "1d4b4b8f-c0a2-4120-a6d7-a3dc8e44273e"
   },
   "outputs": [],
   "source": [
    "#indexing\n",
    "arr_mat[0,0] ## 1st row 1st column element"
   ]
  },
  {
   "cell_type": "code",
   "execution_count": null,
   "metadata": {
    "colab": {},
    "colab_type": "code",
    "id": "_k2mPh64yFbM",
    "outputId": "06147359-717f-4265-ea3b-eba84dfcb7e1"
   },
   "outputs": [],
   "source": [
    "arr_mat[0][0]"
   ]
  },
  {
   "cell_type": "code",
   "execution_count": null,
   "metadata": {
    "colab": {},
    "colab_type": "code",
    "id": "qDy0ut-VyFbQ",
    "outputId": "097ced90-6762-4673-84ff-c9c3a706ce4c"
   },
   "outputs": [],
   "source": [
    "arr_mat[0] ## gives first row"
   ]
  },
  {
   "cell_type": "code",
   "execution_count": null,
   "metadata": {
    "colab": {},
    "colab_type": "code",
    "id": "UpgtYMFCyFbW",
    "outputId": "c9d6f02a-55be-4247-9757-e02ceb5bdb7d"
   },
   "outputs": [],
   "source": [
    "arr_mat[2,2] ## 3rd row 3rd column element"
   ]
  },
  {
   "cell_type": "code",
   "execution_count": null,
   "metadata": {
    "colab": {},
    "colab_type": "code",
    "id": "9zb6bhnvyFba",
    "outputId": "369db017-fd7f-424e-f57e-3efa5af474f6"
   },
   "outputs": [],
   "source": [
    "arr_mat"
   ]
  },
  {
   "cell_type": "code",
   "execution_count": null,
   "metadata": {
    "colab": {},
    "colab_type": "code",
    "id": "yDEPMUr-yFbg",
    "outputId": "18971e9b-a899-48ce-a6f6-506035dc0a13"
   },
   "outputs": [],
   "source": [
    "## slicing 2D array\n",
    "arr_mat[:2,1:]"
   ]
  },
  {
   "cell_type": "code",
   "execution_count": null,
   "metadata": {
    "colab": {},
    "colab_type": "code",
    "id": "X12Ap5GQyFbs",
    "outputId": "659de7fb-344f-43a9-e288-ff3c2fa6a9b4"
   },
   "outputs": [],
   "source": [
    "## slicing 2D array\n",
    "arr_mat[:3, 1:2]"
   ]
  },
  {
   "cell_type": "code",
   "execution_count": null,
   "metadata": {
    "colab": {},
    "colab_type": "code",
    "id": "AIrnS0KtyFb-",
    "outputId": "7849b017-286b-413c-8cf9-103cf2dfdb26"
   },
   "outputs": [],
   "source": [
    "## slicing 2D array\n",
    "\n",
    "arr_mat[:, 2:3]"
   ]
  },
  {
   "cell_type": "markdown",
   "metadata": {},
   "source": [
    "## 5. Linear Algebra\n",
    "#### Basic Overview"
   ]
  },
  {
   "cell_type": "markdown",
   "metadata": {},
   "source": [
    "#### Ndarray Operations (Broadcasting)"
   ]
  },
  {
   "cell_type": "code",
   "execution_count": 2,
   "metadata": {},
   "outputs": [
    {
     "data": {
      "text/plain": [
       "array([[ 0,  1,  2,  3],\n",
       "       [ 4,  5,  6,  7],\n",
       "       [ 8,  9, 10, 11],\n",
       "       [12, 13, 14, 15]])"
      ]
     },
     "execution_count": 2,
     "metadata": {},
     "output_type": "execute_result"
    }
   ],
   "source": [
    "import numpy as np\n",
    "arr = np.arange(16).reshape(4,4)\n",
    "arr"
   ]
  },
  {
   "cell_type": "code",
   "execution_count": 3,
   "metadata": {},
   "outputs": [
    {
     "name": "stdout",
     "output_type": "stream",
     "text": [
      "[[ 1  2  3  4]\n",
      " [ 5  6  7  8]\n",
      " [ 9 10 11 12]\n",
      " [13 14 15 16]]\n",
      "[[ 0  2  4  6]\n",
      " [ 8 10 12 14]\n",
      " [16 18 20 22]\n",
      " [24 26 28 30]]\n",
      "[[0 0 1 1]\n",
      " [2 2 3 3]\n",
      " [4 4 5 5]\n",
      " [6 6 7 7]]\n"
     ]
    }
   ],
   "source": [
    "# The term broadcasting describes how numpy treats arrays with different shapes during arithmetic operations.\n",
    "# ndarray uses broadcasting when operated with a scalar i.e every value gets affected\n",
    "print(arr+1)\n",
    "print(arr*2)\n",
    "print(arr//2)"
   ]
  },
  {
   "cell_type": "code",
   "execution_count": 4,
   "metadata": {},
   "outputs": [
    {
     "data": {
      "text/plain": [
       "array([[ 0,  2,  4,  6],\n",
       "       [ 8, 10, 12, 14],\n",
       "       [16, 18, 20, 22],\n",
       "       [24, 26, 28, 30]])"
      ]
     },
     "execution_count": 4,
     "metadata": {},
     "output_type": "execute_result"
    }
   ],
   "source": [
    "# what about arrays op arrays\n",
    "# similar to matrix\n",
    "arr2 = arr+arr\n",
    "arr2"
   ]
  },
  {
   "cell_type": "code",
   "execution_count": 42,
   "metadata": {},
   "outputs": [
    {
     "data": {
      "text/plain": [
       "array([[ 3,  8],\n",
       "       [15, 24]])"
      ]
     },
     "execution_count": 42,
     "metadata": {},
     "output_type": "execute_result"
    }
   ],
   "source": [
    "# multiplication only works when dimensions satisfy\n",
    "#ndarrrays are operations basically matrix operations \n",
    "mat1=np.array([[1,2],[3,4]])\n",
    "mat2=np.array([[3,4],[5,6]])\n",
    "mat1*mat2\n"
   ]
  },
  {
   "cell_type": "code",
   "execution_count": 5,
   "metadata": {},
   "outputs": [
    {
     "data": {
      "text/plain": [
       "array([[ 0,  4,  8, 12],\n",
       "       [ 1,  5,  9, 13],\n",
       "       [ 2,  6, 10, 14],\n",
       "       [ 3,  7, 11, 15]])"
      ]
     },
     "execution_count": 5,
     "metadata": {},
     "output_type": "execute_result"
    }
   ],
   "source": [
    "#transpose\n",
    "arr.T"
   ]
  },
  {
   "cell_type": "markdown",
   "metadata": {},
   "source": [
    "#### Filtering Data"
   ]
  },
  {
   "cell_type": "code",
   "execution_count": 6,
   "metadata": {},
   "outputs": [
    {
     "data": {
      "text/plain": [
       "array([0, 1, 2, 3, 4, 5, 6, 7, 8, 9])"
      ]
     },
     "execution_count": 6,
     "metadata": {},
     "output_type": "execute_result"
    }
   ],
   "source": [
    "arr = np.arange(10)\n",
    "arr"
   ]
  },
  {
   "cell_type": "code",
   "execution_count": null,
   "metadata": {},
   "outputs": [],
   "source": [
    "bool_value = arr >= 5\n",
    "bool_value"
   ]
  },
  {
   "cell_type": "code",
   "execution_count": null,
   "metadata": {},
   "outputs": [],
   "source": [
    "arr[bool_value]"
   ]
  },
  {
   "cell_type": "code",
   "execution_count": 7,
   "metadata": {},
   "outputs": [
    {
     "data": {
      "text/plain": [
       "array([8, 9])"
      ]
     },
     "execution_count": 7,
     "metadata": {},
     "output_type": "execute_result"
    }
   ],
   "source": [
    "#easier way\n",
    "arr[arr>=8]"
   ]
  },
  {
   "cell_type": "markdown",
   "metadata": {},
   "source": [
    "#### Linear Algebra"
   ]
  },
  {
   "cell_type": "code",
   "execution_count": 8,
   "metadata": {},
   "outputs": [
    {
     "data": {
      "text/plain": [
       "array([[1, 2],\n",
       "       [3, 4]])"
      ]
     },
     "execution_count": 8,
     "metadata": {},
     "output_type": "execute_result"
    }
   ],
   "source": [
    "arr = np.array([[1,2],[3,4]])\n",
    "arr"
   ]
  },
  {
   "cell_type": "code",
   "execution_count": 9,
   "metadata": {},
   "outputs": [
    {
     "data": {
      "text/plain": [
       "-2.0000000000000004"
      ]
     },
     "execution_count": 9,
     "metadata": {},
     "output_type": "execute_result"
    }
   ],
   "source": [
    "#determinant\n",
    "np.linalg.det(arr)"
   ]
  },
  {
   "cell_type": "code",
   "execution_count": 10,
   "metadata": {},
   "outputs": [
    {
     "data": {
      "text/plain": [
       "array([[-2. ,  1. ],\n",
       "       [ 1.5, -0.5]])"
      ]
     },
     "execution_count": 10,
     "metadata": {},
     "output_type": "execute_result"
    }
   ],
   "source": [
    "#inverse\n",
    "np.linalg.inv(arr)"
   ]
  },
  {
   "cell_type": "code",
   "execution_count": 12,
   "metadata": {
    "colab": {},
    "colab_type": "code",
    "id": "0lM7akNNyFcG",
    "outputId": "efa32eb5-7ede-4d59-f80b-8b036601769a"
   },
   "outputs": [
    {
     "data": {
      "text/plain": [
       "0.9875414397573881"
      ]
     },
     "execution_count": 12,
     "metadata": {},
     "output_type": "execute_result"
    }
   ],
   "source": [
    "# matrix and Vector Operations\n",
    "\n",
    "#Vector dotproduct and cos angle\n",
    "a = np.array([1,2,3])\n",
    "b = np.array([1,5,7])\n",
    "amag = np.linalg.norm(a)  ## absolute value\n",
    "bmag = np.linalg.norm(b) \n",
    "cos_angle = a.dot(b) / ( amag * bmag)\n",
    "cos_angle\n",
    "\n"
   ]
  },
  {
   "cell_type": "code",
   "execution_count": 28,
   "metadata": {
    "colab": {},
    "colab_type": "code",
    "id": "OP-9goUbyFcM",
    "outputId": "9fe9d89d-34f1-4f83-d552-dc034170600f"
   },
   "outputs": [
    {
     "data": {
      "text/plain": [
       "32"
      ]
     },
     "execution_count": 28,
     "metadata": {},
     "output_type": "execute_result"
    }
   ],
   "source": [
    "#a.dot(b)\n",
    "np.dot(a,b)"
   ]
  },
  {
   "cell_type": "code",
   "execution_count": 14,
   "metadata": {
    "colab": {},
    "colab_type": "code",
    "id": "7vwcWXm3yFcQ",
    "outputId": "b4a6f67f-76b2-450a-edf1-ef22b6becaad"
   },
   "outputs": [
    {
     "data": {
      "text/plain": [
       "0.15801592211305823"
      ]
     },
     "execution_count": 14,
     "metadata": {},
     "output_type": "execute_result"
    }
   ],
   "source": [
    "cosangle = np.arccos(cos_angle)  ## cos inverse value\n",
    "cosangle"
   ]
  },
  {
   "cell_type": "code",
   "execution_count": null,
   "metadata": {
    "colab": {},
    "colab_type": "code",
    "id": "faFk9P84yFcY"
   },
   "outputs": [],
   "source": [
    "#Vector Sine Angle and Cross Product\n"
   ]
  },
  {
   "cell_type": "code",
   "execution_count": 16,
   "metadata": {
    "colab": {},
    "colab_type": "code",
    "id": "SZrButO3yFca",
    "outputId": "efe039cb-60e1-4d2c-b887-3e03f4ee7382"
   },
   "outputs": [
    {
     "data": {
      "text/plain": [
       "array([-1, -4,  3])"
      ]
     },
     "execution_count": 16,
     "metadata": {},
     "output_type": "execute_result"
    }
   ],
   "source": [
    "c = np.cross(a, b)\n",
    "c"
   ]
  },
  {
   "cell_type": "code",
   "execution_count": 17,
   "metadata": {
    "colab": {},
    "colab_type": "code",
    "id": "ZfbaR1XpyFci",
    "outputId": "b7f9371d-87f0-4308-872b-ab3d576a18cf"
   },
   "outputs": [
    {
     "data": {
      "text/plain": [
       "5.0990195135927845"
      ]
     },
     "execution_count": 17,
     "metadata": {},
     "output_type": "execute_result"
    }
   ],
   "source": [
    "c_mag = np.linalg.norm(c)\n",
    "c_mag"
   ]
  },
  {
   "cell_type": "code",
   "execution_count": 18,
   "metadata": {
    "colab": {},
    "colab_type": "code",
    "id": "fiZKUEDwyFcs"
   },
   "outputs": [],
   "source": [
    "amag = np.linalg.norm(a)\n",
    "bmag = np.linalg.norm(b)"
   ]
  },
  {
   "cell_type": "code",
   "execution_count": 19,
   "metadata": {
    "colab": {},
    "colab_type": "code",
    "id": "q8LSjnyjyFc0",
    "outputId": "0797011c-1ced-41c6-c2e2-bcc218068f06"
   },
   "outputs": [
    {
     "data": {
      "text/plain": [
       "0.1573591584938886"
      ]
     },
     "execution_count": 19,
     "metadata": {},
     "output_type": "execute_result"
    }
   ],
   "source": [
    "sin_angle = c_mag / ( amag * bmag)\n",
    "sin_angle"
   ]
  },
  {
   "cell_type": "code",
   "execution_count": 20,
   "metadata": {
    "colab": {},
    "colab_type": "code",
    "id": "XMgifkazyFc8",
    "outputId": "bf510ad4-60c3-41a1-a6d3-19ccaf2a9494"
   },
   "outputs": [
    {
     "data": {
      "text/plain": [
       "0.15801592211305715"
      ]
     },
     "execution_count": 20,
     "metadata": {},
     "output_type": "execute_result"
    }
   ],
   "source": [
    "sinangle = np.arcsin(sin_angle)  ## inverse sin value\n",
    "sinangle"
   ]
  },
  {
   "cell_type": "code",
   "execution_count": 32,
   "metadata": {
    "colab": {},
    "colab_type": "code",
    "id": "C4Z3TzlZyFdS",
    "outputId": "00fb40c4-6421-44d6-de86-149658b32f88"
   },
   "outputs": [
    {
     "data": {
      "text/plain": [
       "array([[ 37, 240,  48],\n",
       "       [ 59, 316,  81]])"
      ]
     },
     "execution_count": 32,
     "metadata": {},
     "output_type": "execute_result"
    }
   ],
   "source": [
    "mat1 = ([1,2,4],[3,4,5])\n",
    "mat2 = ([3, 4, 6],[5, 6, 7],[6,56, 7])\n",
    " \n",
    "\n",
    "res = np.dot(mat1,mat2)\n",
    " \n",
    "res"
   ]
  },
  {
   "cell_type": "code",
   "execution_count": 30,
   "metadata": {
    "colab": {},
    "colab_type": "code",
    "id": "3TXmltDEyFdY"
   },
   "outputs": [],
   "source": [
    "mat3 =([1,2,3],[4,5,6])\n",
    "mat4 =([4,5,6],[1,2,3])\n",
    "res1 = np.cross(mat3,mat4)"
   ]
  },
  {
   "cell_type": "code",
   "execution_count": 31,
   "metadata": {
    "colab": {},
    "colab_type": "code",
    "id": "D4tGK4mdyFda",
    "outputId": "adb1220d-f9a5-4e22-eb7e-c16db63396d9"
   },
   "outputs": [
    {
     "data": {
      "text/plain": [
       "array([[-3,  6, -3],\n",
       "       [ 3, -6,  3]])"
      ]
     },
     "execution_count": 31,
     "metadata": {},
     "output_type": "execute_result"
    }
   ],
   "source": [
    "res1"
   ]
  },
  {
   "cell_type": "code",
   "execution_count": 33,
   "metadata": {
    "colab": {},
    "colab_type": "code",
    "id": "ewtOHUlMyFde"
   },
   "outputs": [],
   "source": [
    "#assignment \n",
    "#learn about singular value decomposition(SVDs)\n",
    "## SVD is a factorization of a real or complex matrix. "
   ]
  },
  {
   "cell_type": "code",
   "execution_count": 34,
   "metadata": {},
   "outputs": [
    {
     "data": {
      "text/plain": [
       "4.0"
      ]
     },
     "execution_count": 34,
     "metadata": {},
     "output_type": "execute_result"
    }
   ],
   "source": []
  },
  {
   "cell_type": "code",
   "execution_count": 35,
   "metadata": {},
   "outputs": [
    {
     "data": {
      "text/plain": [
       "6.0"
      ]
     },
     "execution_count": 35,
     "metadata": {},
     "output_type": "execute_result"
    }
   ],
   "source": []
  },
  {
   "cell_type": "code",
   "execution_count": null,
   "metadata": {},
   "outputs": [],
   "source": []
  }
 ],
 "metadata": {
  "accelerator": "GPU",
  "colab": {
   "collapsed_sections": [
    "qLvG0QrryFXo",
    "gIWh6naHyFZO",
    "6aSpYepryFbE"
   ],
   "name": "Numpy_May12.ipynb",
   "provenance": [],
   "version": "0.3.2"
  },
  "kernelspec": {
   "display_name": "Python 3",
   "language": "python",
   "name": "python3"
  },
  "language_info": {
   "codemirror_mode": {
    "name": "ipython",
    "version": 3
   },
   "file_extension": ".py",
   "mimetype": "text/x-python",
   "name": "python",
   "nbconvert_exporter": "python",
   "pygments_lexer": "ipython3",
   "version": "3.6.6"
  }
 },
 "nbformat": 4,
 "nbformat_minor": 1
}
